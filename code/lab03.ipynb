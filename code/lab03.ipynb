{
 "cells": [
  {
   "cell_type": "markdown",
   "metadata": {
    "id": "jpTqcd9p1egC"
   },
   "source": [
    "## Laboratorio 3\n",
    "### K-Means para clasificación de Malware\n",
    "> #### Gerardo Méndez 18239"
   ]
  },
  {
   "cell_type": "code",
   "execution_count": 1,
   "metadata": {
    "colab": {
     "base_uri": "https://localhost:8080/"
    },
    "id": "NLJDfSwM11SW",
    "outputId": "c6725760-a590-47d8-f2e2-552aa9677d8c"
   },
   "outputs": [],
   "source": [
    "import numpy as np\n",
    "import pandas as pd\n",
    "import matplotlib.pyplot as plt\n",
    "\n",
    "%matplotlib inline"
   ]
  },
  {
   "cell_type": "code",
   "execution_count": 2,
   "metadata": {},
   "outputs": [],
   "source": [
    "df = pd.read_csv('../datasets/sample_malware.csv', index_col=\"Unnamed: 0\")"
   ]
  },
  {
   "cell_type": "markdown",
   "metadata": {},
   "source": [
    "### PARTE 1 - INGENIERÍA DE CARACTERÍSTICAS"
   ]
  },
  {
   "cell_type": "markdown",
   "metadata": {},
   "source": [
    "#### Exploración de Datos"
   ]
  },
  {
   "cell_type": "code",
   "execution_count": 3,
   "metadata": {},
   "outputs": [
    {
     "data": {
      "text/html": [
       "<div>\n",
       "<style scoped>\n",
       "    .dataframe tbody tr th:only-of-type {\n",
       "        vertical-align: middle;\n",
       "    }\n",
       "\n",
       "    .dataframe tbody tr th {\n",
       "        vertical-align: top;\n",
       "    }\n",
       "\n",
       "    .dataframe thead th {\n",
       "        text-align: right;\n",
       "    }\n",
       "</style>\n",
       "<table border=\"1\" class=\"dataframe\">\n",
       "  <thead>\n",
       "    <tr style=\"text-align: right;\">\n",
       "      <th></th>\n",
       "      <th>e_lfanew</th>\n",
       "      <th>characteristics</th>\n",
       "      <th>size_of_image</th>\n",
       "      <th>image_base</th>\n",
       "      <th>IDEE_size</th>\n",
       "      <th>IDEE_virtual_address</th>\n",
       "      <th>IDEI_size</th>\n",
       "      <th>IDEI_virtual_address</th>\n",
       "      <th>IDER_size</th>\n",
       "      <th>IDER_virtual_address</th>\n",
       "      <th>.rsrc</th>\n",
       "      <th>UPX0</th>\n",
       "      <th>UPX1</th>\n",
       "      <th>UPX2</th>\n",
       "      <th>.text</th>\n",
       "      <th>.rdata</th>\n",
       "      <th>.data</th>\n",
       "      <th>no_imported_symbols</th>\n",
       "      <th>no_exported_symbols</th>\n",
       "    </tr>\n",
       "  </thead>\n",
       "  <tbody>\n",
       "    <tr>\n",
       "      <th>0</th>\n",
       "      <td>240</td>\n",
       "      <td>8462</td>\n",
       "      <td>811008</td>\n",
       "      <td>268435456</td>\n",
       "      <td>176</td>\n",
       "      <td>807356</td>\n",
       "      <td>444</td>\n",
       "      <td>806912</td>\n",
       "      <td>0</td>\n",
       "      <td>0</td>\n",
       "      <td>0</td>\n",
       "      <td>1</td>\n",
       "      <td>1</td>\n",
       "      <td>1</td>\n",
       "      <td>0</td>\n",
       "      <td>0</td>\n",
       "      <td>0</td>\n",
       "      <td>10</td>\n",
       "      <td>5</td>\n",
       "    </tr>\n",
       "    <tr>\n",
       "      <th>1</th>\n",
       "      <td>240</td>\n",
       "      <td>8462</td>\n",
       "      <td>811008</td>\n",
       "      <td>268435456</td>\n",
       "      <td>176</td>\n",
       "      <td>807356</td>\n",
       "      <td>444</td>\n",
       "      <td>806912</td>\n",
       "      <td>0</td>\n",
       "      <td>0</td>\n",
       "      <td>0</td>\n",
       "      <td>1</td>\n",
       "      <td>1</td>\n",
       "      <td>1</td>\n",
       "      <td>0</td>\n",
       "      <td>0</td>\n",
       "      <td>0</td>\n",
       "      <td>10</td>\n",
       "      <td>5</td>\n",
       "    </tr>\n",
       "    <tr>\n",
       "      <th>2</th>\n",
       "      <td>224</td>\n",
       "      <td>271</td>\n",
       "      <td>32768</td>\n",
       "      <td>4194304</td>\n",
       "      <td>0</td>\n",
       "      <td>0</td>\n",
       "      <td>328</td>\n",
       "      <td>28760</td>\n",
       "      <td>88</td>\n",
       "      <td>28672</td>\n",
       "      <td>1</td>\n",
       "      <td>1</td>\n",
       "      <td>1</td>\n",
       "      <td>0</td>\n",
       "      <td>0</td>\n",
       "      <td>0</td>\n",
       "      <td>0</td>\n",
       "      <td>8</td>\n",
       "      <td>0</td>\n",
       "    </tr>\n",
       "    <tr>\n",
       "      <th>3</th>\n",
       "      <td>232</td>\n",
       "      <td>271</td>\n",
       "      <td>2048000</td>\n",
       "      <td>4194304</td>\n",
       "      <td>0</td>\n",
       "      <td>0</td>\n",
       "      <td>332</td>\n",
       "      <td>2044812</td>\n",
       "      <td>908</td>\n",
       "      <td>2043904</td>\n",
       "      <td>1</td>\n",
       "      <td>1</td>\n",
       "      <td>1</td>\n",
       "      <td>0</td>\n",
       "      <td>0</td>\n",
       "      <td>0</td>\n",
       "      <td>0</td>\n",
       "      <td>8</td>\n",
       "      <td>0</td>\n",
       "    </tr>\n",
       "    <tr>\n",
       "      <th>4</th>\n",
       "      <td>240</td>\n",
       "      <td>8462</td>\n",
       "      <td>692224</td>\n",
       "      <td>268435456</td>\n",
       "      <td>176</td>\n",
       "      <td>689604</td>\n",
       "      <td>456</td>\n",
       "      <td>689148</td>\n",
       "      <td>1020</td>\n",
       "      <td>688128</td>\n",
       "      <td>1</td>\n",
       "      <td>1</td>\n",
       "      <td>1</td>\n",
       "      <td>0</td>\n",
       "      <td>0</td>\n",
       "      <td>0</td>\n",
       "      <td>0</td>\n",
       "      <td>10</td>\n",
       "      <td>5</td>\n",
       "    </tr>\n",
       "    <tr>\n",
       "      <th>5</th>\n",
       "      <td>224</td>\n",
       "      <td>271</td>\n",
       "      <td>32768</td>\n",
       "      <td>4194304</td>\n",
       "      <td>0</td>\n",
       "      <td>0</td>\n",
       "      <td>328</td>\n",
       "      <td>28760</td>\n",
       "      <td>88</td>\n",
       "      <td>28672</td>\n",
       "      <td>1</td>\n",
       "      <td>1</td>\n",
       "      <td>1</td>\n",
       "      <td>0</td>\n",
       "      <td>0</td>\n",
       "      <td>0</td>\n",
       "      <td>0</td>\n",
       "      <td>8</td>\n",
       "      <td>0</td>\n",
       "    </tr>\n",
       "    <tr>\n",
       "      <th>6</th>\n",
       "      <td>224</td>\n",
       "      <td>271</td>\n",
       "      <td>32768</td>\n",
       "      <td>4194304</td>\n",
       "      <td>0</td>\n",
       "      <td>0</td>\n",
       "      <td>328</td>\n",
       "      <td>28760</td>\n",
       "      <td>88</td>\n",
       "      <td>28672</td>\n",
       "      <td>1</td>\n",
       "      <td>1</td>\n",
       "      <td>1</td>\n",
       "      <td>0</td>\n",
       "      <td>0</td>\n",
       "      <td>0</td>\n",
       "      <td>0</td>\n",
       "      <td>8</td>\n",
       "      <td>0</td>\n",
       "    </tr>\n",
       "    <tr>\n",
       "      <th>7</th>\n",
       "      <td>224</td>\n",
       "      <td>271</td>\n",
       "      <td>32768</td>\n",
       "      <td>4194304</td>\n",
       "      <td>0</td>\n",
       "      <td>0</td>\n",
       "      <td>328</td>\n",
       "      <td>28760</td>\n",
       "      <td>88</td>\n",
       "      <td>28672</td>\n",
       "      <td>1</td>\n",
       "      <td>1</td>\n",
       "      <td>1</td>\n",
       "      <td>0</td>\n",
       "      <td>0</td>\n",
       "      <td>0</td>\n",
       "      <td>0</td>\n",
       "      <td>8</td>\n",
       "      <td>0</td>\n",
       "    </tr>\n",
       "    <tr>\n",
       "      <th>8</th>\n",
       "      <td>224</td>\n",
       "      <td>271</td>\n",
       "      <td>32768</td>\n",
       "      <td>4194304</td>\n",
       "      <td>0</td>\n",
       "      <td>0</td>\n",
       "      <td>328</td>\n",
       "      <td>28760</td>\n",
       "      <td>88</td>\n",
       "      <td>28672</td>\n",
       "      <td>1</td>\n",
       "      <td>1</td>\n",
       "      <td>1</td>\n",
       "      <td>0</td>\n",
       "      <td>0</td>\n",
       "      <td>0</td>\n",
       "      <td>0</td>\n",
       "      <td>8</td>\n",
       "      <td>0</td>\n",
       "    </tr>\n",
       "    <tr>\n",
       "      <th>9</th>\n",
       "      <td>256</td>\n",
       "      <td>271</td>\n",
       "      <td>782336</td>\n",
       "      <td>4194304</td>\n",
       "      <td>0</td>\n",
       "      <td>0</td>\n",
       "      <td>520</td>\n",
       "      <td>778240</td>\n",
       "      <td>0</td>\n",
       "      <td>0</td>\n",
       "      <td>0</td>\n",
       "      <td>1</td>\n",
       "      <td>1</td>\n",
       "      <td>1</td>\n",
       "      <td>0</td>\n",
       "      <td>0</td>\n",
       "      <td>0</td>\n",
       "      <td>12</td>\n",
       "      <td>0</td>\n",
       "    </tr>\n",
       "  </tbody>\n",
       "</table>\n",
       "</div>"
      ],
      "text/plain": [
       "   e_lfanew  characteristics  size_of_image  image_base  IDEE_size  \\\n",
       "0       240             8462         811008   268435456        176   \n",
       "1       240             8462         811008   268435456        176   \n",
       "2       224              271          32768     4194304          0   \n",
       "3       232              271        2048000     4194304          0   \n",
       "4       240             8462         692224   268435456        176   \n",
       "5       224              271          32768     4194304          0   \n",
       "6       224              271          32768     4194304          0   \n",
       "7       224              271          32768     4194304          0   \n",
       "8       224              271          32768     4194304          0   \n",
       "9       256              271         782336     4194304          0   \n",
       "\n",
       "   IDEE_virtual_address  IDEI_size  IDEI_virtual_address  IDER_size  \\\n",
       "0                807356        444                806912          0   \n",
       "1                807356        444                806912          0   \n",
       "2                     0        328                 28760         88   \n",
       "3                     0        332               2044812        908   \n",
       "4                689604        456                689148       1020   \n",
       "5                     0        328                 28760         88   \n",
       "6                     0        328                 28760         88   \n",
       "7                     0        328                 28760         88   \n",
       "8                     0        328                 28760         88   \n",
       "9                     0        520                778240          0   \n",
       "\n",
       "   IDER_virtual_address  .rsrc  UPX0  UPX1  UPX2  .text  .rdata  .data  \\\n",
       "0                     0      0     1     1     1      0       0      0   \n",
       "1                     0      0     1     1     1      0       0      0   \n",
       "2                 28672      1     1     1     0      0       0      0   \n",
       "3               2043904      1     1     1     0      0       0      0   \n",
       "4                688128      1     1     1     0      0       0      0   \n",
       "5                 28672      1     1     1     0      0       0      0   \n",
       "6                 28672      1     1     1     0      0       0      0   \n",
       "7                 28672      1     1     1     0      0       0      0   \n",
       "8                 28672      1     1     1     0      0       0      0   \n",
       "9                     0      0     1     1     1      0       0      0   \n",
       "\n",
       "   no_imported_symbols  no_exported_symbols  \n",
       "0                   10                    5  \n",
       "1                   10                    5  \n",
       "2                    8                    0  \n",
       "3                    8                    0  \n",
       "4                   10                    5  \n",
       "5                    8                    0  \n",
       "6                    8                    0  \n",
       "7                    8                    0  \n",
       "8                    8                    0  \n",
       "9                   12                    0  "
      ]
     },
     "execution_count": 3,
     "metadata": {},
     "output_type": "execute_result"
    }
   ],
   "source": [
    "df.head(10)"
   ]
  },
  {
   "cell_type": "code",
   "execution_count": 4,
   "metadata": {},
   "outputs": [
    {
     "name": "stdout",
     "output_type": "stream",
     "text": [
      "<class 'pandas.core.frame.DataFrame'>\n",
      "Int64Index: 40 entries, 0 to 39\n",
      "Data columns (total 19 columns):\n",
      " #   Column                Non-Null Count  Dtype\n",
      "---  ------                --------------  -----\n",
      " 0   e_lfanew              40 non-null     int64\n",
      " 1   characteristics       40 non-null     int64\n",
      " 2   size_of_image         40 non-null     int64\n",
      " 3   image_base            40 non-null     int64\n",
      " 4   IDEE_size             40 non-null     int64\n",
      " 5   IDEE_virtual_address  40 non-null     int64\n",
      " 6   IDEI_size             40 non-null     int64\n",
      " 7   IDEI_virtual_address  40 non-null     int64\n",
      " 8   IDER_size             40 non-null     int64\n",
      " 9   IDER_virtual_address  40 non-null     int64\n",
      " 10  .rsrc                 40 non-null     int64\n",
      " 11  UPX0                  40 non-null     int64\n",
      " 12  UPX1                  40 non-null     int64\n",
      " 13  UPX2                  40 non-null     int64\n",
      " 14  .text                 40 non-null     int64\n",
      " 15  .rdata                40 non-null     int64\n",
      " 16  .data                 40 non-null     int64\n",
      " 17  no_imported_symbols   40 non-null     int64\n",
      " 18  no_exported_symbols   40 non-null     int64\n",
      "dtypes: int64(19)\n",
      "memory usage: 6.2 KB\n"
     ]
    }
   ],
   "source": [
    "df.info()"
   ]
  },
  {
   "cell_type": "code",
   "execution_count": 5,
   "metadata": {},
   "outputs": [
    {
     "data": {
      "text/plain": [
       "(40, 19)"
      ]
     },
     "execution_count": 5,
     "metadata": {},
     "output_type": "execute_result"
    }
   ],
   "source": [
    "df.shape"
   ]
  },
  {
   "cell_type": "markdown",
   "metadata": {},
   "source": [
    "#### Preprocesamiento"
   ]
  },
  {
   "cell_type": "code",
   "execution_count": 6,
   "metadata": {},
   "outputs": [],
   "source": [
    "from sklearn.preprocessing import StandardScaler"
   ]
  },
  {
   "cell_type": "code",
   "execution_count": 7,
   "metadata": {},
   "outputs": [],
   "source": [
    "sscaler = StandardScaler()"
   ]
  },
  {
   "cell_type": "code",
   "execution_count": 8,
   "metadata": {},
   "outputs": [],
   "source": [
    "scaled_df = sscaler.fit_transform(df)"
   ]
  },
  {
   "cell_type": "code",
   "execution_count": 9,
   "metadata": {},
   "outputs": [
    {
     "data": {
      "text/plain": [
       "array([[ 0.94064699,  2.64575131, -0.20370474,  2.64575131,  2.64575131,\n",
       "         2.82380741,  1.27752193,  0.85413385, -0.58142667, -0.37605208,\n",
       "        -1.44115338,  0.5       ,  0.5       ,  2.38047614, -0.5       ,\n",
       "        -0.5       , -0.5       , -0.44962007,  2.64575131],\n",
       "       [ 0.94064699,  2.64575131, -0.20370474,  2.64575131,  2.64575131,\n",
       "         2.82380741,  1.27752193,  0.85413385, -0.58142667, -0.37605208,\n",
       "        -1.44115338,  0.5       ,  0.5       ,  2.38047614, -0.5       ,\n",
       "        -0.5       , -0.5       , -0.44962007,  2.64575131],\n",
       "       [-0.98888529, -0.37796447, -0.70521302, -0.37796447, -0.37796447,\n",
       "        -0.37672709,  0.13582282, -0.51438785, -0.31368441, -0.34052759,\n",
       "         0.69388867,  0.5       ,  0.5       , -0.42008403, -0.5       ,\n",
       "        -0.5       , -0.5       , -0.51490067, -0.37796447],\n",
       "       [-0.02411915, -0.37796447,  0.59342947, -0.37796447, -0.37796447,\n",
       "        -0.37672709,  0.17519176,  3.03120595,  2.18118672,  2.1563364 ,\n",
       "         0.69388867,  0.5       ,  0.5       , -0.42008403, -0.5       ,\n",
       "        -0.5       , -0.5       , -0.51490067, -0.37796447],\n",
       "       [ 0.94064699,  2.64575131, -0.28025074,  2.64575131,  2.64575131,\n",
       "         2.35701291,  1.39562873,  0.64702446,  2.5219496 ,  0.47653563,\n",
       "         0.69388867,  0.5       ,  0.5       , -0.42008403, -0.5       ,\n",
       "        -0.5       , -0.5       , -0.44962007,  2.64575131]])"
      ]
     },
     "execution_count": 9,
     "metadata": {},
     "output_type": "execute_result"
    }
   ],
   "source": [
    "scaled_df[:5]"
   ]
  },
  {
   "cell_type": "markdown",
   "metadata": {},
   "source": [
    "### PARTE 2 – IMPLEMENTACIÓN DEL MODELO"
   ]
  },
  {
   "cell_type": "code",
   "execution_count": 10,
   "metadata": {},
   "outputs": [],
   "source": [
    "## importamos librerias necesarias para la seleccion de modelo\n",
    "from sklearn import cluster"
   ]
  },
  {
   "cell_type": "markdown",
   "metadata": {},
   "source": [
    "#### Implementación"
   ]
  },
  {
   "cell_type": "code",
   "execution_count": 11,
   "metadata": {},
   "outputs": [],
   "source": [
    "## creacion de modelo\n",
    "kms = cluster.KMeans(\n",
    "    init=\"random\",\n",
    "    n_clusters=5,\n",
    "    random_state=42\n",
    ")"
   ]
  },
  {
   "cell_type": "code",
   "execution_count": 12,
   "metadata": {},
   "outputs": [
    {
     "data": {
      "text/plain": [
       "KMeans(init='random', n_clusters=5, random_state=42)"
      ]
     },
     "execution_count": 12,
     "metadata": {},
     "output_type": "execute_result"
    }
   ],
   "source": [
    "kms.fit(scaled_df)"
   ]
  },
  {
   "cell_type": "markdown",
   "metadata": {},
   "source": [
    "#### Método del codo"
   ]
  },
  {
   "cell_type": "code",
   "execution_count": 13,
   "metadata": {},
   "outputs": [],
   "source": [
    "kmeans_kwargs = {\n",
    "    \"init\": \"random\",\n",
    "    \"n_init\": 10,\n",
    "    \"max_iter\": 300,\n",
    "    \"random_state\": 42,\n",
    "}\n",
    "\n",
    "sse = []\n",
    "\n",
    "for k in range(1, 11):\n",
    "    kms = cluster.KMeans(n_clusters=k, **kmeans_kwargs)\n",
    "    kms.fit(scaled_df)\n",
    "    sse.append(kms.inertia_)"
   ]
  },
  {
   "cell_type": "code",
   "execution_count": 14,
   "metadata": {},
   "outputs": [
    {
     "data": {
      "image/png": "[encoded data removed]",
      "text/plain": [
       "<Figure size 432x288 with 1 Axes>"
      ]
     },
     "metadata": {},
     "output_type": "display_data"
    }
   ],
   "source": [
    "plt.style.use(\"dark_background\")\n",
    "plt.plot(range(1, 11), sse)\n",
    "plt.xticks(range(1, 11))\n",
    "plt.xlabel(\"Number of Clusters\")\n",
    "plt.ylabel(\"SSE\")\n",
    "plt.show()"
   ]
  },
  {
   "cell_type": "markdown",
   "metadata": {},
   "source": [
    "Podemos observar que el número óptimo de clusters se encuentra entre 5 y 6. En este caso, tomamos 5 clusters, debido a que el cambio de 4 a 5 es aún significativo contrario al cambio de 5 a 6."
   ]
  },
  {
   "cell_type": "markdown",
   "metadata": {},
   "source": [
    "### Silhouette"
   ]
  },
  {
   "cell_type": "code",
   "execution_count": 15,
   "metadata": {},
   "outputs": [],
   "source": [
    "from sklearn.metrics import silhouette_score"
   ]
  },
  {
   "cell_type": "code",
   "execution_count": 16,
   "metadata": {},
   "outputs": [],
   "source": [
    "coef_silhouette = []\n",
    "\n",
    "for k in range(2, 11):\n",
    "    kms = cluster.KMeans(n_clusters=k, **kmeans_kwargs)\n",
    "    kms.fit(scaled_df)\n",
    "    score = silhouette_score(scaled_df, kms.labels_)\n",
    "    coef_silhouette.append(score)"
   ]
  },
  {
   "cell_type": "code",
   "execution_count": 17,
   "metadata": {},
   "outputs": [
    {
     "data": {
      "image/png": "[encoded data removed]",
      "text/plain": [
       "<Figure size 432x288 with 1 Axes>"
      ]
     },
     "metadata": {},
     "output_type": "display_data"
    }
   ],
   "source": [
    "plt.style.use(\"dark_background\")\n",
    "plt.plot(range(2, 11), coef_silhouette)\n",
    "plt.xticks(range(2, 11))\n",
    "plt.xlabel(\"# de Clusters\")\n",
    "plt.ylabel(\"Coeficiente de Silhouette\")\n",
    "plt.show()"
   ]
  },
  {
   "cell_type": "markdown",
   "metadata": {},
   "source": [
    "### PARTE 3 - Conclusiones"
   ]
  },
  {
   "cell_type": "markdown",
   "metadata": {},
   "source": [
    "**1. ¿Para qué número de clústeres se obtiene el coeficiente de sillhouete más alto?**\n",
    "> Para el método de silhouette, el coeficiente más alto se da con 10 clústers.\n",
    "\n",
    "**2.  ¿Coincide con el método del codo?**\n",
    "> No coincide del todo, ya que con el método del codo obtuvimos que 5 clústers era el número indicado, y más confiable.\n",
    "\n",
    "**3. ¿Cuántas familias existen entre los ejemplares de malware proporcionados?**\n",
    "> Según los resultados obtenidos implementando el modelo, se tienen 5 familias de malware dentro de los ejemplares proporcionados para el laboratorio."
   ]
  }
 ],
 "metadata": {
  "colab": {
   "name": "lab01.ipynb",
   "provenance": []
  },
  "kernelspec": {
   "display_name": "Python 3 (ipykernel)",
   "language": "python",
   "name": "python3"
  },
  "language_info": {
   "codemirror_mode": {
    "name": "ipython",
    "version": 3
   },
   "file_extension": ".py",
   "mimetype": "text/x-python",
   "name": "python",
   "nbconvert_exporter": "python",
   "pygments_lexer": "ipython3",
   "version": "3.8.10"
  }
 },
 "nbformat": 4,
 "nbformat_minor": 4
}
