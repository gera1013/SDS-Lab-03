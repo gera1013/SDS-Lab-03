{
 "cells": [
  {
   "cell_type": "markdown",
   "metadata": {
    "id": "jpTqcd9p1egC"
   },
   "source": [
    "## Laboratorio 1\n",
    "### Detección Phishing\n",
    "> #### Gerardo Méndez 18239, Luis Pedro Cuéllar 18220 "
   ]
  },
  {
   "cell_type": "code",
   "execution_count": 1,
   "metadata": {
    "colab": {
     "base_uri": "https://localhost:8080/"
    },
    "id": "NLJDfSwM11SW",
    "outputId": "c6725760-a590-47d8-f2e2-552aa9677d8c"
   },
   "outputs": [],
   "source": [
    "import pandas as pd\n",
    "import numpy as np\n",
    "\n",
    "%matplotlib inline"
   ]
  },
  {
   "cell_type": "code",
   "execution_count": 2,
   "metadata": {},
   "outputs": [],
   "source": [
    "df = pd.read_csv('../datasets/sample_malware.csv')"
   ]
  },
  {
   "cell_type": "markdown",
   "metadata": {},
   "source": [
    "#### PARTE 1 - INGENIERÍA DE CARACTERÍSTICAS"
   ]
  },
  {
   "cell_type": "markdown",
   "metadata": {},
   "source": [
    "##### Exploración de Datos"
   ]
  },
  {
   "cell_type": "code",
   "execution_count": 3,
   "metadata": {},
   "outputs": [
    {
     "data": {
      "text/html": [
       "<div>\n",
       "<style scoped>\n",
       "    .dataframe tbody tr th:only-of-type {\n",
       "        vertical-align: middle;\n",
       "    }\n",
       "\n",
       "    .dataframe tbody tr th {\n",
       "        vertical-align: top;\n",
       "    }\n",
       "\n",
       "    .dataframe thead th {\n",
       "        text-align: right;\n",
       "    }\n",
       "</style>\n",
       "<table border=\"1\" class=\"dataframe\">\n",
       "  <thead>\n",
       "    <tr style=\"text-align: right;\">\n",
       "      <th></th>\n",
       "      <th>url</th>\n",
       "      <th>ip</th>\n",
       "      <th>nb_www</th>\n",
       "      <th>nb_com</th>\n",
       "      <th>nb_dslash</th>\n",
       "      <th>http_in_path</th>\n",
       "      <th>punycode</th>\n",
       "      <th>port</th>\n",
       "      <th>tld_in_path</th>\n",
       "      <th>tld_in_subdomain</th>\n",
       "      <th>...</th>\n",
       "      <th>domain_in_title</th>\n",
       "      <th>domain_with_copyright</th>\n",
       "      <th>whois_registered_domain</th>\n",
       "      <th>domain_registration_length</th>\n",
       "      <th>domain_age</th>\n",
       "      <th>web_traffic</th>\n",
       "      <th>dns_record</th>\n",
       "      <th>google_index</th>\n",
       "      <th>page_rank</th>\n",
       "      <th>status</th>\n",
       "    </tr>\n",
       "  </thead>\n",
       "  <tbody>\n",
       "    <tr>\n",
       "      <th>0</th>\n",
       "      <td>http://www.crestonwood.com/router.php</td>\n",
       "      <td>0</td>\n",
       "      <td>1</td>\n",
       "      <td>0</td>\n",
       "      <td>0</td>\n",
       "      <td>0</td>\n",
       "      <td>0</td>\n",
       "      <td>0</td>\n",
       "      <td>0</td>\n",
       "      <td>0</td>\n",
       "      <td>...</td>\n",
       "      <td>0</td>\n",
       "      <td>1</td>\n",
       "      <td>0</td>\n",
       "      <td>45</td>\n",
       "      <td>-1</td>\n",
       "      <td>0</td>\n",
       "      <td>1</td>\n",
       "      <td>1</td>\n",
       "      <td>4</td>\n",
       "      <td>legitimate</td>\n",
       "    </tr>\n",
       "    <tr>\n",
       "      <th>1</th>\n",
       "      <td>http://shadetreetechnology.com/V4/validation/a...</td>\n",
       "      <td>1</td>\n",
       "      <td>0</td>\n",
       "      <td>0</td>\n",
       "      <td>0</td>\n",
       "      <td>0</td>\n",
       "      <td>0</td>\n",
       "      <td>0</td>\n",
       "      <td>0</td>\n",
       "      <td>0</td>\n",
       "      <td>...</td>\n",
       "      <td>1</td>\n",
       "      <td>0</td>\n",
       "      <td>0</td>\n",
       "      <td>77</td>\n",
       "      <td>5767</td>\n",
       "      <td>0</td>\n",
       "      <td>0</td>\n",
       "      <td>1</td>\n",
       "      <td>2</td>\n",
       "      <td>phishing</td>\n",
       "    </tr>\n",
       "    <tr>\n",
       "      <th>2</th>\n",
       "      <td>https://support-appleld.com.secureupdate.duila...</td>\n",
       "      <td>1</td>\n",
       "      <td>0</td>\n",
       "      <td>1</td>\n",
       "      <td>0</td>\n",
       "      <td>0</td>\n",
       "      <td>0</td>\n",
       "      <td>0</td>\n",
       "      <td>0</td>\n",
       "      <td>1</td>\n",
       "      <td>...</td>\n",
       "      <td>1</td>\n",
       "      <td>0</td>\n",
       "      <td>0</td>\n",
       "      <td>14</td>\n",
       "      <td>4004</td>\n",
       "      <td>5828815</td>\n",
       "      <td>0</td>\n",
       "      <td>1</td>\n",
       "      <td>0</td>\n",
       "      <td>phishing</td>\n",
       "    </tr>\n",
       "    <tr>\n",
       "      <th>3</th>\n",
       "      <td>http://rgipt.ac.in</td>\n",
       "      <td>0</td>\n",
       "      <td>0</td>\n",
       "      <td>0</td>\n",
       "      <td>0</td>\n",
       "      <td>0</td>\n",
       "      <td>0</td>\n",
       "      <td>0</td>\n",
       "      <td>0</td>\n",
       "      <td>0</td>\n",
       "      <td>...</td>\n",
       "      <td>1</td>\n",
       "      <td>0</td>\n",
       "      <td>0</td>\n",
       "      <td>62</td>\n",
       "      <td>-1</td>\n",
       "      <td>107721</td>\n",
       "      <td>0</td>\n",
       "      <td>0</td>\n",
       "      <td>3</td>\n",
       "      <td>legitimate</td>\n",
       "    </tr>\n",
       "    <tr>\n",
       "      <th>4</th>\n",
       "      <td>http://www.iracing.com/tracks/gateway-motorspo...</td>\n",
       "      <td>0</td>\n",
       "      <td>1</td>\n",
       "      <td>0</td>\n",
       "      <td>0</td>\n",
       "      <td>0</td>\n",
       "      <td>0</td>\n",
       "      <td>0</td>\n",
       "      <td>0</td>\n",
       "      <td>0</td>\n",
       "      <td>...</td>\n",
       "      <td>0</td>\n",
       "      <td>1</td>\n",
       "      <td>0</td>\n",
       "      <td>224</td>\n",
       "      <td>8175</td>\n",
       "      <td>8725</td>\n",
       "      <td>0</td>\n",
       "      <td>0</td>\n",
       "      <td>6</td>\n",
       "      <td>legitimate</td>\n",
       "    </tr>\n",
       "  </tbody>\n",
       "</table>\n",
       "<p>5 rows × 67 columns</p>\n",
       "</div>"
      ],
      "text/plain": [
       "                                                 url  ip  nb_www  nb_com  \\\n",
       "0              http://www.crestonwood.com/router.php   0       1       0   \n",
       "1  http://shadetreetechnology.com/V4/validation/a...   1       0       0   \n",
       "2  https://support-appleld.com.secureupdate.duila...   1       0       1   \n",
       "3                                 http://rgipt.ac.in   0       0       0   \n",
       "4  http://www.iracing.com/tracks/gateway-motorspo...   0       1       0   \n",
       "\n",
       "   nb_dslash  http_in_path  punycode  port  tld_in_path  tld_in_subdomain  \\\n",
       "0          0             0         0     0            0                 0   \n",
       "1          0             0         0     0            0                 0   \n",
       "2          0             0         0     0            0                 1   \n",
       "3          0             0         0     0            0                 0   \n",
       "4          0             0         0     0            0                 0   \n",
       "\n",
       "   ...  domain_in_title  domain_with_copyright  whois_registered_domain  \\\n",
       "0  ...                0                      1                        0   \n",
       "1  ...                1                      0                        0   \n",
       "2  ...                1                      0                        0   \n",
       "3  ...                1                      0                        0   \n",
       "4  ...                0                      1                        0   \n",
       "\n",
       "   domain_registration_length  domain_age  web_traffic  dns_record  \\\n",
       "0                          45          -1            0           1   \n",
       "1                          77        5767            0           0   \n",
       "2                          14        4004      5828815           0   \n",
       "3                          62          -1       107721           0   \n",
       "4                         224        8175         8725           0   \n",
       "\n",
       "   google_index  page_rank      status  \n",
       "0             1          4  legitimate  \n",
       "1             1          2    phishing  \n",
       "2             1          0    phishing  \n",
       "3             0          3  legitimate  \n",
       "4             0          6  legitimate  \n",
       "\n",
       "[5 rows x 67 columns]"
      ]
     },
     "execution_count": 3,
     "metadata": {},
     "output_type": "execute_result"
    }
   ],
   "source": [
    "df.head()"
   ]
  },
  {
   "cell_type": "code",
   "execution_count": 4,
   "metadata": {},
   "outputs": [
    {
     "name": "stdout",
     "output_type": "stream",
     "text": [
      "<class 'pandas.core.frame.DataFrame'>\n",
      "RangeIndex: 11430 entries, 0 to 11429\n",
      "Data columns (total 67 columns):\n",
      " #   Column                      Non-Null Count  Dtype  \n",
      "---  ------                      --------------  -----  \n",
      " 0   url                         11430 non-null  object \n",
      " 1   ip                          11430 non-null  int64  \n",
      " 2   nb_www                      11430 non-null  int64  \n",
      " 3   nb_com                      11430 non-null  int64  \n",
      " 4   nb_dslash                   11430 non-null  int64  \n",
      " 5   http_in_path                11430 non-null  int64  \n",
      " 6   punycode                    11430 non-null  int64  \n",
      " 7   port                        11430 non-null  int64  \n",
      " 8   tld_in_path                 11430 non-null  int64  \n",
      " 9   tld_in_subdomain            11430 non-null  int64  \n",
      " 10  abnormal_subdomain          11430 non-null  int64  \n",
      " 11  nb_subdomains               11430 non-null  int64  \n",
      " 12  prefix_suffix               11430 non-null  int64  \n",
      " 13  random_domain               11430 non-null  int64  \n",
      " 14  shortening_service          11430 non-null  int64  \n",
      " 15  path_extension              11430 non-null  int64  \n",
      " 16  nb_redirection              11430 non-null  int64  \n",
      " 17  nb_external_redirection     11430 non-null  int64  \n",
      " 18  length_words_raw            11430 non-null  int64  \n",
      " 19  char_repeat                 11430 non-null  int64  \n",
      " 20  shortest_words_raw          11430 non-null  int64  \n",
      " 21  shortest_word_host          11430 non-null  int64  \n",
      " 22  shortest_word_path          11430 non-null  int64  \n",
      " 23  longest_words_raw           11430 non-null  int64  \n",
      " 24  longest_word_host           11430 non-null  int64  \n",
      " 25  longest_word_path           11430 non-null  int64  \n",
      " 26  avg_words_raw               11430 non-null  float64\n",
      " 27  avg_word_host               11430 non-null  float64\n",
      " 28  avg_word_path               11430 non-null  float64\n",
      " 29  phish_hints                 11430 non-null  int64  \n",
      " 30  domain_in_brand             11430 non-null  int64  \n",
      " 31  brand_in_subdomain          11430 non-null  int64  \n",
      " 32  brand_in_path               11430 non-null  int64  \n",
      " 33  suspecious_tld              11430 non-null  int64  \n",
      " 34  statistical_report          11430 non-null  int64  \n",
      " 35  nb_hyperlinks               11430 non-null  int64  \n",
      " 36  ratio_intHyperlinks         11430 non-null  float64\n",
      " 37  ratio_extHyperlinks         11430 non-null  float64\n",
      " 38  ratio_nullHyperlinks        11430 non-null  int64  \n",
      " 39  nb_extCSS                   11430 non-null  int64  \n",
      " 40  ratio_intRedirection        11430 non-null  int64  \n",
      " 41  ratio_extRedirection        11430 non-null  float64\n",
      " 42  ratio_intErrors             11430 non-null  int64  \n",
      " 43  ratio_extErrors             11430 non-null  float64\n",
      " 44  login_form                  11430 non-null  int64  \n",
      " 45  external_favicon            11430 non-null  int64  \n",
      " 46  links_in_tags               11430 non-null  float64\n",
      " 47  submit_email                11430 non-null  int64  \n",
      " 48  ratio_intMedia              11430 non-null  float64\n",
      " 49  ratio_extMedia              11430 non-null  float64\n",
      " 50  sfh                         11430 non-null  int64  \n",
      " 51  iframe                      11430 non-null  int64  \n",
      " 52  popup_window                11430 non-null  int64  \n",
      " 53  safe_anchor                 11430 non-null  float64\n",
      " 54  onmouseover                 11430 non-null  int64  \n",
      " 55  right_clic                  11430 non-null  int64  \n",
      " 56  empty_title                 11430 non-null  int64  \n",
      " 57  domain_in_title             11430 non-null  int64  \n",
      " 58  domain_with_copyright       11430 non-null  int64  \n",
      " 59  whois_registered_domain     11430 non-null  int64  \n",
      " 60  domain_registration_length  11430 non-null  int64  \n",
      " 61  domain_age                  11430 non-null  int64  \n",
      " 62  web_traffic                 11430 non-null  int64  \n",
      " 63  dns_record                  11430 non-null  int64  \n",
      " 64  google_index                11430 non-null  int64  \n",
      " 65  page_rank                   11430 non-null  int64  \n",
      " 66  status                      11430 non-null  object \n",
      "dtypes: float64(11), int64(54), object(2)\n",
      "memory usage: 5.8+ MB\n"
     ]
    }
   ],
   "source": [
    "df.info()"
   ]
  },
  {
   "cell_type": "code",
   "execution_count": 5,
   "metadata": {},
   "outputs": [
    {
     "data": {
      "text/plain": [
       "(11430, 67)"
      ]
     },
     "execution_count": 5,
     "metadata": {},
     "output_type": "execute_result"
    }
   ],
   "source": [
    "df.shape"
   ]
  },
  {
   "cell_type": "markdown",
   "metadata": {},
   "source": [
    "##### Preprocesamiento"
   ]
  },
  {
   "cell_type": "code",
   "execution_count": 16,
   "metadata": {},
   "outputs": [],
   "source": [
    "## eliminamos todas las columnas que no nos servirán\n",
    "df = df.drop('ratio_nullHyperlinks', axis = 1)"
   ]
  },
  {
   "cell_type": "code",
   "execution_count": 19,
   "metadata": {},
   "outputs": [],
   "source": [
    "df_model = df"
   ]
  },
  {
   "cell_type": "markdown",
   "metadata": {},
   "source": [
    "#### PARTE 2 – IMPLEMENTACIÓN DEL MODELO"
   ]
  },
  {
   "cell_type": "code",
   "execution_count": 21,
   "metadata": {},
   "outputs": [],
   "source": [
    "## importamos librerias necesarias para la seleccion de modelo\n",
    "import sklearn\n",
    "from sklearn import metrics, model_selection, cluster"
   ]
  },
  {
   "cell_type": "markdown",
   "metadata": {},
   "source": [
    "##### Implementación"
   ]
  },
  {
   "cell_type": "code",
   "execution_count": 30,
   "metadata": {},
   "outputs": [
    {
     "data": {
      "text/plain": [
       "DecisionTreeClassifier(max_depth=10, min_samples_split=40)"
      ]
     },
     "execution_count": 30,
     "metadata": {},
     "output_type": "execute_result"
    }
   ],
   "source": [
    "## creacion de modelo\n",
    "kms = cluster.KMeans()\n",
    "kms.fit()"
   ]
  },
  {
   "cell_type": "markdown",
   "metadata": {},
   "source": [
    "#### PARTE 3 - PREGUNTAS"
   ]
  },
  {
   "cell_type": "markdown",
   "metadata": {},
   "source": [
    "**1. ¿Cuál es el impacto de clasificar un sitio legítimo como Pishing?**\n",
    "> El impacto principal sería que los sitios clasificados incorrectamente como Phishing pueden perder tráfico y a la vez de cierto modo \"perder credibilidad\". Los usuarios intenarían evitar ese sitio en concreto, cuando este en realidad no es malicioso.\n",
    "\n",
    "**2. ¿Cuál es el impacto de clasificar un sitio de Pishing como legítimo?**\n",
    "> Esto provocaría que los usuarios ingresarían y navegarían más \"confiadamente\" entre estos sitios, lo cual llevaría a un aumento de víctimas de phishing dentro de quienes accedan a estas páginas. Si la clasificación es utilizada como referencia, se puede poner el peligro la integridad de la información de varios usuarios.\n",
    "\n",
    "**3. En base a las respuestas anteriores, ¿Qué métrica elegiría para comparar modelos similares de clasificación de pishing?**\n",
    "> En el caso de los sitios de phishing, utilizaríamos la métrica de recall. Esto debido a que queremos comparar qué tan bien se catalogó un sitio como phishing. En la práctica, queremos identificar la mayor cantidad de sitios de phishing posibles.\n",
    "\n",
    "**4. ¿Es necesaria la intervención de una persona humana en la decisión final de clasificación?**\n",
    "> No, ya que al humano le pueden afectar varios aspectos y puede llegar a no ser imparcial en la desición. Debido a esto, preferiríamos utilizar un modelo para hacer este tipo de clasificación."
   ]
  }
 ],
 "metadata": {
  "colab": {
   "name": "lab01.ipynb",
   "provenance": []
  },
  "kernelspec": {
   "display_name": "Python 3 (ipykernel)",
   "language": "python",
   "name": "python3"
  },
  "language_info": {
   "codemirror_mode": {
    "name": "ipython",
    "version": 3
   },
   "file_extension": ".py",
   "mimetype": "text/x-python",
   "name": "python",
   "nbconvert_exporter": "python",
   "pygments_lexer": "ipython3",
   "version": "3.8.10"
  }
 },
 "nbformat": 4,
 "nbformat_minor": 4
}
